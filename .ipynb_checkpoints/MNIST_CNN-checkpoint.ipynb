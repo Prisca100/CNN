{
 "cells": [
  {
   "cell_type": "code",
   "execution_count": 76,
   "id": "70cf3e9e",
   "metadata": {},
   "outputs": [],
   "source": [
    "import tensorflow as tf\n",
    "from tensorflow.keras import models, layers, datasets\n",
    "from keras.datasets import mnist\n",
    "import matplotlib.pyplot as plt\n",
    "import numpy as np\n"
   ]
  },
  {
   "cell_type": "code",
   "execution_count": 77,
   "id": "96999941",
   "metadata": {},
   "outputs": [],
   "source": [
    "data = mnist.load_data()"
   ]
  },
  {
   "cell_type": "code",
   "execution_count": 78,
   "id": "d1b40f17",
   "metadata": {},
   "outputs": [],
   "source": [
    "(x_train, y_train), (x_test, y_test) = data"
   ]
  },
  {
   "cell_type": "code",
   "execution_count": 79,
   "id": "947258a8",
   "metadata": {},
   "outputs": [
    {
     "data": {
      "text/plain": [
       "(60000, 28, 28)"
      ]
     },
     "execution_count": 79,
     "metadata": {},
     "output_type": "execute_result"
    }
   ],
   "source": [
    "x_train.shape"
   ]
  },
  {
   "cell_type": "code",
   "execution_count": 80,
   "id": "c8dfbc45",
   "metadata": {},
   "outputs": [
    {
     "data": {
      "text/plain": [
       "(60000,)"
      ]
     },
     "execution_count": 80,
     "metadata": {},
     "output_type": "execute_result"
    }
   ],
   "source": [
    "y_train.shape"
   ]
  },
  {
   "cell_type": "code",
   "execution_count": 81,
   "id": "66542274",
   "metadata": {},
   "outputs": [
    {
     "data": {
      "text/plain": [
       "(28, 28)"
      ]
     },
     "execution_count": 81,
     "metadata": {},
     "output_type": "execute_result"
    }
   ],
   "source": [
    "x_train[0].shape"
   ]
  },
  {
   "cell_type": "markdown",
   "id": "46145c22",
   "metadata": {},
   "source": [
    "Visualising an image"
   ]
  },
  {
   "cell_type": "code",
   "execution_count": 115,
   "id": "2e50e95e",
   "metadata": {},
   "outputs": [
    {
     "data": {
      "image/png": "[encoded data removed]",
      "text/plain": [
       "<Figure size 432x288 with 1 Axes>"
      ]
     },
     "metadata": {
      "needs_background": "light"
     },
     "output_type": "display_data"
    }
   ],
   "source": [
    "image = plt.imshow(x_train[1], cmap = 'gray')"
   ]
  },
  {
   "cell_type": "markdown",
   "id": "0ef8eeec",
   "metadata": {},
   "source": [
    "Regular deep learning "
   ]
  },
  {
   "cell_type": "markdown",
   "id": "27f935a0",
   "metadata": {},
   "source": [
    "CNN "
   ]
  },
  {
   "cell_type": "code",
   "execution_count": 83,
   "id": "9e0b3e55",
   "metadata": {},
   "outputs": [],
   "source": [
    "# Normalising the data\n",
    "x_train = x_train/255\n",
    "x_test = x_test/255"
   ]
  },
  {
   "cell_type": "markdown",
   "id": "0f7d3d83",
   "metadata": {},
   "source": [
    "Building the deep learning model"
   ]
  },
  {
   "cell_type": "markdown",
   "id": "01d039ac",
   "metadata": {},
   "source": [
    "Built with sigmoid softmax\n",
    "Softmax was way better\n",
    "\n",
    "Built with adam and SGD , adam optimizer was better\n",
    "cross_entropy did not work as the shape was not supported \n",
    "So used Sparse categorical entropy"
   ]
  },
  {
   "cell_type": "code",
   "execution_count": 84,
   "id": "b7cf49b9",
   "metadata": {},
   "outputs": [],
   "source": [
    "model = models.Sequential([\n",
    "    layers.Flatten(input_shape = (28,28)),\n",
    "    layers.Dense(3000, activation = \"relu\"),\n",
    "    layers.Dense(1000, activation = \"relu\"),\n",
    "    layers.Dense(10, activation = \"softmax\")       \n",
    "])\n",
    "model.compile(optimizer = \"adam\",\n",
    "                 loss = \"sparse_categorical_crossentropy\",\n",
    "                 metrics = ['accuracy'])\n"
   ]
  },
  {
   "cell_type": "code",
   "execution_count": 85,
   "id": "a46b9bd7",
   "metadata": {},
   "outputs": [
    {
     "name": "stdout",
     "output_type": "stream",
     "text": [
      "Model: \"sequential_14\"\n",
      "_________________________________________________________________\n",
      " Layer (type)                Output Shape              Param #   \n",
      "=================================================================\n",
      " flatten_14 (Flatten)        (None, 784)               0         \n",
      "                                                                 \n",
      " dense_37 (Dense)            (None, 3000)              2355000   \n",
      "                                                                 \n",
      " dense_38 (Dense)            (None, 1000)              3001000   \n",
      "                                                                 \n",
      " dense_39 (Dense)            (None, 10)                10010     \n",
      "                                                                 \n",
      "=================================================================\n",
      "Total params: 5,366,010\n",
      "Trainable params: 5,366,010\n",
      "Non-trainable params: 0\n",
      "_________________________________________________________________\n"
     ]
    }
   ],
   "source": [
    "model.summary()"
   ]
  },
  {
   "cell_type": "code",
   "execution_count": 86,
   "id": "af39a139",
   "metadata": {},
   "outputs": [
    {
     "name": "stdout",
     "output_type": "stream",
     "text": [
      "Epoch 1/5\n",
      "1875/1875 [==============================] - 64s 33ms/step - loss: 0.1823 - accuracy: 0.9444\n",
      "Epoch 2/5\n",
      "1875/1875 [==============================] - 65s 35ms/step - loss: 0.0827 - accuracy: 0.9743\n",
      "Epoch 3/5\n",
      "1875/1875 [==============================] - 73s 39ms/step - loss: 0.0602 - accuracy: 0.9819\n",
      "Epoch 4/5\n",
      "1875/1875 [==============================] - 69s 37ms/step - loss: 0.0456 - accuracy: 0.9862\n",
      "Epoch 5/5\n",
      "1875/1875 [==============================] - 72s 38ms/step - loss: 0.0414 - accuracy: 0.9873\n"
     ]
    },
    {
     "data": {
      "text/plain": [
       "<keras.callbacks.History at 0x13d800f0550>"
      ]
     },
     "execution_count": 86,
     "metadata": {},
     "output_type": "execute_result"
    }
   ],
   "source": [
    "model.fit(x_train, y_train, epochs =5)"
   ]
  },
  {
   "cell_type": "code",
   "execution_count": 88,
   "id": "a09e708d",
   "metadata": {},
   "outputs": [
    {
     "name": "stdout",
     "output_type": "stream",
     "text": [
      "313/313 [==============================] - 3s 9ms/step - loss: 0.1114 - accuracy: 0.9725\n"
     ]
    },
    {
     "data": {
      "text/plain": [
       "[0.11141745746135712, 0.9725000262260437]"
      ]
     },
     "execution_count": 88,
     "metadata": {},
     "output_type": "execute_result"
    }
   ],
   "source": [
    "model.evaluate(x_test, y_test)"
   ]
  },
  {
   "cell_type": "code",
   "execution_count": 89,
   "id": "c916aec6",
   "metadata": {},
   "outputs": [
    {
     "name": "stdout",
     "output_type": "stream",
     "text": [
      "Classification Report: \n",
      "               precision    recall  f1-score   support\n",
      "\n",
      "           0       0.99      0.97      0.98       980\n",
      "           1       0.99      0.98      0.99      1135\n",
      "           2       0.99      0.97      0.98      1032\n",
      "           3       0.98      0.97      0.98      1010\n",
      "           4       0.98      0.99      0.99       982\n",
      "           5       0.90      0.99      0.94       892\n",
      "           6       0.99      0.96      0.97       958\n",
      "           7       0.97      0.98      0.97      1028\n",
      "           8       0.97      0.96      0.96       974\n",
      "           9       0.96      0.97      0.97      1009\n",
      "\n",
      "    accuracy                           0.97     10000\n",
      "   macro avg       0.97      0.97      0.97     10000\n",
      "weighted avg       0.97      0.97      0.97     10000\n",
      "\n"
     ]
    }
   ],
   "source": [
    "from sklearn.metrics import confusion_matrix, classification_report\n",
    "import numpy as np\n",
    "y_pred = model.predict(x_test)\n",
    "y_pred_classes =[np.argmax(element) for element in y_pred]\n",
    "print(\"Classification Report: \\n\", classification_report(y_test, y_pred_classes))"
   ]
  },
  {
   "cell_type": "markdown",
   "id": "def9f9af",
   "metadata": {},
   "source": [
    "Building the CNN model"
   ]
  },
  {
   "cell_type": "code",
   "execution_count": 103,
   "id": "2a4b6c17",
   "metadata": {},
   "outputs": [],
   "source": [
    "cnn_model = models.Sequential([\n",
    "    #Convolutional layer\n",
    "    layers.Conv2D(filters=32,  kernel_size=(2,2), activation=\"relu\", input_shape=(28,28,1)),\n",
    "    layers.MaxPooling2D(2,2),\n",
    "    \n",
    "    layers.Conv2D(filters=64, activation=\"relu\", kernel_size=(3,3), input_shape=(28,28,1)),\n",
    "    layers.MaxPooling2D(2,2),\n",
    "    \n",
    "    layers.Conv2D(filters=64, activation=\"relu\", kernel_size=(3,3), input_shape=(28,28,1)),\n",
    "    \n",
    "    # Dense Multi layer nn\n",
    "    layers.Flatten(),\n",
    "    layers.Dense(64, activation = \"relu\"),\n",
    "    layers.Dense(10, activation = \"softmax\")       \n",
    "])\n",
    "\n",
    "# Compiling the Model\n",
    "cnn_model.compile(optimizer = \"adam\",\n",
    "                 loss=\"sparse_categorical_crossentropy\",\n",
    "                 metrics = ['accuracy'])"
   ]
  },
  {
   "cell_type": "markdown",
   "id": "8dddd12f",
   "metadata": {},
   "source": [
    "As seen in the model summary below, the shape of the filter affects the output dhspr. When using a (3 x3) matrix, we observe that the filter will move (n-3) + 1 times along the row and the column. The general output shape after convolution is given by \n",
    "                        ((A-m)+1),(B-m)+1), x) , where A is the dimension of row and B is the dimension of the column and x is the number of filters applied\n",
    "                                 and m is the filter shape"
   ]
  },
  {
   "cell_type": "code",
   "execution_count": null,
   "id": "6ccae397",
   "metadata": {},
   "outputs": [],
   "source": []
  },
  {
   "cell_type": "markdown",
   "id": "989c8c40",
   "metadata": {},
   "source": [
    "For the max pooling layer method, since just one of the values is taken, the output size reduces by 1/x where x is the kernel_size. For example (28,28) will reduce to (26, 26) using a (3, 3) convolution kernel_size and after applying pooling, will reduce to (13, 13)"
   ]
  },
  {
   "cell_type": "code",
   "execution_count": 104,
   "id": "12ecf874",
   "metadata": {},
   "outputs": [
    {
     "name": "stdout",
     "output_type": "stream",
     "text": [
      "Model: \"sequential_17\"\n",
      "_________________________________________________________________\n",
      " Layer (type)                Output Shape              Param #   \n",
      "=================================================================\n",
      " conv2d_20 (Conv2D)          (None, 27, 27, 32)        160       \n",
      "                                                                 \n",
      " max_pooling2d_14 (MaxPoolin  (None, 13, 13, 32)       0         \n",
      " g2D)                                                            \n",
      "                                                                 \n",
      " conv2d_21 (Conv2D)          (None, 11, 11, 64)        18496     \n",
      "                                                                 \n",
      " max_pooling2d_15 (MaxPoolin  (None, 5, 5, 64)         0         \n",
      " g2D)                                                            \n",
      "                                                                 \n",
      " conv2d_22 (Conv2D)          (None, 3, 3, 64)          36928     \n",
      "                                                                 \n",
      " flatten_17 (Flatten)        (None, 576)               0         \n",
      "                                                                 \n",
      " dense_44 (Dense)            (None, 64)                36928     \n",
      "                                                                 \n",
      " dense_45 (Dense)            (None, 10)                650       \n",
      "                                                                 \n",
      "=================================================================\n",
      "Total params: 93,162\n",
      "Trainable params: 93,162\n",
      "Non-trainable params: 0\n",
      "_________________________________________________________________\n"
     ]
    }
   ],
   "source": [
    "# Model Summary\n",
    "cnn_model.summary()"
   ]
  },
  {
   "cell_type": "code",
   "execution_count": 105,
   "id": "f1eda8a3",
   "metadata": {
    "scrolled": true
   },
   "outputs": [
    {
     "name": "stdout",
     "output_type": "stream",
     "text": [
      "Epoch 1/50\n",
      "1875/1875 [==============================] - 72s 24ms/step - loss: 0.1469 - accuracy: 0.9554\n",
      "Epoch 2/50\n",
      "1875/1875 [==============================] - 45s 24ms/step - loss: 0.0483 - accuracy: 0.9852\n",
      "Epoch 3/50\n",
      "1875/1875 [==============================] - 44s 23ms/step - loss: 0.0358 - accuracy: 0.9885\n",
      "Epoch 4/50\n",
      "1875/1875 [==============================] - 42s 22ms/step - loss: 0.0275 - accuracy: 0.9911\n",
      "Epoch 5/50\n",
      "1875/1875 [==============================] - 44s 24ms/step - loss: 0.0217 - accuracy: 0.9929\n",
      "Epoch 6/50\n",
      "1875/1875 [==============================] - 44s 24ms/step - loss: 0.0169 - accuracy: 0.9946\n",
      "Epoch 7/50\n",
      "1875/1875 [==============================] - 44s 24ms/step - loss: 0.0148 - accuracy: 0.9950\n",
      "Epoch 8/50\n",
      "1875/1875 [==============================] - 45s 24ms/step - loss: 0.0116 - accuracy: 0.9964\n",
      "Epoch 9/50\n",
      "1875/1875 [==============================] - 46s 24ms/step - loss: 0.0114 - accuracy: 0.9959\n",
      "Epoch 10/50\n",
      "1875/1875 [==============================] - 46s 25ms/step - loss: 0.0097 - accuracy: 0.9970\n",
      "Epoch 11/50\n",
      "1875/1875 [==============================] - 44s 24ms/step - loss: 0.0082 - accuracy: 0.9974\n",
      "Epoch 12/50\n",
      "1875/1875 [==============================] - 45s 24ms/step - loss: 0.0080 - accuracy: 0.9974\n",
      "Epoch 13/50\n",
      "1875/1875 [==============================] - 44s 24ms/step - loss: 0.0066 - accuracy: 0.9980\n",
      "Epoch 14/50\n",
      "1875/1875 [==============================] - 45s 24ms/step - loss: 0.0070 - accuracy: 0.9978\n",
      "Epoch 15/50\n",
      "1875/1875 [==============================] - 46s 24ms/step - loss: 0.0063 - accuracy: 0.9981\n",
      "Epoch 16/50\n",
      "1875/1875 [==============================] - 761s 406ms/step - loss: 0.0064 - accuracy: 0.997938s - loss: 0.0064 - accura - ETA: 30s - loss: 0.0064 -  - ETA: 1\n",
      "Epoch 17/50\n",
      "1875/1875 [==============================] - 43s 23ms/step - loss: 0.0057 - accuracy: 0.9983\n",
      "Epoch 18/50\n",
      "1875/1875 [==============================] - 31s 17ms/step - loss: 0.0062 - accuracy: 0.9983\n",
      "Epoch 19/50\n",
      "1875/1875 [==============================] - 36s 19ms/step - loss: 0.0044 - accuracy: 0.9986\n",
      "Epoch 20/50\n",
      "1875/1875 [==============================] - 36s 19ms/step - loss: 0.0052 - accuracy: 0.9983\n",
      "Epoch 21/50\n",
      "1875/1875 [==============================] - 28s 15ms/step - loss: 0.0050 - accuracy: 0.9985\n",
      "Epoch 22/50\n",
      "1875/1875 [==============================] - 27s 14ms/step - loss: 0.0059 - accuracy: 0.9982\n",
      "Epoch 23/50\n",
      "1875/1875 [==============================] - 26s 14ms/step - loss: 0.0046 - accuracy: 0.9984\n",
      "Epoch 24/50\n",
      "1875/1875 [==============================] - 26s 14ms/step - loss: 0.0041 - accuracy: 0.9988\n",
      "Epoch 25/50\n",
      "1875/1875 [==============================] - 27s 14ms/step - loss: 0.0037 - accuracy: 0.9990\n",
      "Epoch 26/50\n",
      "1875/1875 [==============================] - 30s 16ms/step - loss: 0.0043 - accuracy: 0.9986\n",
      "Epoch 27/50\n",
      "1875/1875 [==============================] - 29s 15ms/step - loss: 0.0037 - accuracy: 0.9988\n",
      "Epoch 28/50\n",
      "1875/1875 [==============================] - 28s 15ms/step - loss: 0.0052 - accuracy: 0.9985\n",
      "Epoch 29/50\n",
      "1875/1875 [==============================] - 27s 15ms/step - loss: 0.0031 - accuracy: 0.9991\n",
      "Epoch 30/50\n",
      "1875/1875 [==============================] - 31s 16ms/step - loss: 0.0053 - accuracy: 0.9985\n",
      "Epoch 31/50\n",
      "1875/1875 [==============================] - 30s 16ms/step - loss: 0.0043 - accuracy: 0.9987\n",
      "Epoch 32/50\n",
      "1875/1875 [==============================] - 29s 16ms/step - loss: 0.0030 - accuracy: 0.9991\n",
      "Epoch 33/50\n",
      "1875/1875 [==============================] - 29s 15ms/step - loss: 0.0032 - accuracy: 0.9990\n",
      "Epoch 34/50\n",
      "1875/1875 [==============================] - 29s 15ms/step - loss: 0.0049 - accuracy: 0.9986\n",
      "Epoch 35/50\n",
      "1875/1875 [==============================] - 29s 16ms/step - loss: 0.0038 - accuracy: 0.9990\n",
      "Epoch 36/50\n",
      "1875/1875 [==============================] - 30s 16ms/step - loss: 0.0029 - accuracy: 0.9992\n",
      "Epoch 37/50\n",
      "1875/1875 [==============================] - 30s 16ms/step - loss: 0.0031 - accuracy: 0.9991\n",
      "Epoch 38/50\n",
      "1875/1875 [==============================] - 31s 16ms/step - loss: 0.0033 - accuracy: 0.9991\n",
      "Epoch 39/50\n",
      "1875/1875 [==============================] - 27s 14ms/step - loss: 0.0030 - accuracy: 0.9993\n",
      "Epoch 40/50\n",
      "1875/1875 [==============================] - 26s 14ms/step - loss: 0.0048 - accuracy: 0.9987\n",
      "Epoch 41/50\n",
      "1875/1875 [==============================] - 27s 14ms/step - loss: 0.0046 - accuracy: 0.9988\n",
      "Epoch 42/50\n",
      "1875/1875 [==============================] - 35s 19ms/step - loss: 0.0027 - accuracy: 0.9992\n",
      "Epoch 43/50\n",
      "1875/1875 [==============================] - 35s 19ms/step - loss: 0.0035 - accuracy: 0.9990\n",
      "Epoch 44/50\n",
      "1875/1875 [==============================] - 34s 18ms/step - loss: 0.0039 - accuracy: 0.9989\n",
      "Epoch 45/50\n",
      "1875/1875 [==============================] - 34s 18ms/step - loss: 0.0042 - accuracy: 0.9989\n",
      "Epoch 46/50\n",
      "1875/1875 [==============================] - 35s 19ms/step - loss: 0.0028 - accuracy: 0.9993\n",
      "Epoch 47/50\n",
      "1875/1875 [==============================] - 37s 20ms/step - loss: 0.0045 - accuracy: 0.9990\n",
      "Epoch 48/50\n",
      "1875/1875 [==============================] - 34s 18ms/step - loss: 0.0027 - accuracy: 0.9994\n",
      "Epoch 49/50\n",
      "1875/1875 [==============================] - 34s 18ms/step - loss: 0.0033 - accuracy: 0.9992\n",
      "Epoch 50/50\n",
      "1875/1875 [==============================] - 33s 17ms/step - loss: 0.0034 - accuracy: 0.9991\n"
     ]
    },
    {
     "data": {
      "text/plain": [
       "<keras.callbacks.History at 0x13d827ca3d0>"
      ]
     },
     "execution_count": 105,
     "metadata": {},
     "output_type": "execute_result"
    }
   ],
   "source": [
    "cnn_model.fit(x_train, y_train, epochs=50)"
   ]
  },
  {
   "cell_type": "code",
   "execution_count": 107,
   "id": "2b1a41bd",
   "metadata": {},
   "outputs": [
    {
     "name": "stdout",
     "output_type": "stream",
     "text": [
      "313/313 [==============================] - 2s 6ms/step - loss: 0.1008 - accuracy: 0.9911\n"
     ]
    },
    {
     "data": {
      "text/plain": [
       "[0.10075749456882477, 0.991100013256073]"
      ]
     },
     "execution_count": 107,
     "metadata": {},
     "output_type": "execute_result"
    }
   ],
   "source": [
    "cnn_model.evaluate(x_test, y_test)"
   ]
  },
  {
   "cell_type": "code",
   "execution_count": 113,
   "id": "29ca1327",
   "metadata": {},
   "outputs": [
    {
     "data": {
      "text/plain": [
       "array([0.0000000e+00, 1.0024446e-37, 2.0087047e-31, 2.1024017e-37,\n",
       "       5.9521711e-38, 0.0000000e+00, 0.0000000e+00, 1.0000000e+00,\n",
       "       1.4530090e-33, 2.3813647e-34], dtype=float32)"
      ]
     },
     "execution_count": 113,
     "metadata": {},
     "output_type": "execute_result"
    }
   ],
   "source": [
    "y_pred = cnn_model.predict(x_test)\n",
    "y_pred[0]"
   ]
  },
  {
   "cell_type": "code",
   "execution_count": 114,
   "id": "953ca6eb",
   "metadata": {},
   "outputs": [
    {
     "data": {
      "text/plain": [
       "7"
      ]
     },
     "execution_count": 114,
     "metadata": {},
     "output_type": "execute_result"
    }
   ],
   "source": [
    "y_test[0]"
   ]
  },
  {
   "cell_type": "code",
   "execution_count": null,
   "id": "f37470d9",
   "metadata": {},
   "outputs": [],
   "source": []
  }
 ],
 "metadata": {
  "kernelspec": {
   "display_name": "Python 3",
   "language": "python",
   "name": "python3"
  },
  "language_info": {
   "codemirror_mode": {
    "name": "ipython",
    "version": 3
   },
   "file_extension": ".py",
   "mimetype": "text/x-python",
   "name": "python",
   "nbconvert_exporter": "python",
   "pygments_lexer": "ipython3",
   "version": "3.8.12"
  }
 },
 "nbformat": 4,
 "nbformat_minor": 5
}
